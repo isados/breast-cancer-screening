{
 "cells": [
  {
   "cell_type": "markdown",
   "metadata": {
    "colab_type": "text",
    "id": "CoSLRD7PHnJx"
   },
   "source": [
    "## Load the Google Drive"
   ]
  },
  {
   "cell_type": "code",
   "execution_count": 3,
   "metadata": {
    "colab": {
     "base_uri": "https://localhost:8080/",
     "height": 34
    },
    "colab_type": "code",
    "id": "MBqUeZ9lHnJz",
    "outputId": "bc8af9f3-a53b-44f9-fc4b-e26c9f55e566"
   },
   "outputs": [
    {
     "name": "stdout",
     "output_type": "stream",
     "text": [
      "datalab  sample_data\r\n"
     ]
    }
   ],
   "source": [
    "!ls"
   ]
  },
  {
   "cell_type": "code",
   "execution_count": 0,
   "metadata": {
    "colab": {},
    "colab_type": "code",
    "id": "oQn2wIHJHnJ5"
   },
   "outputs": [],
   "source": [
    "# Install a Drive FUSE wrapper.\n",
    "# https://github.com/astrada/google-drive-ocamlfuse\n",
    "!apt-get update -qq 2>&1 > /dev/null\n",
    "!apt-get install -y -qq software-properties-common python-software-properties module-init-tools\n",
    "!add-apt-repository -y ppa:alessandro-strada/ppa 2>&1 > /dev/null\n",
    "!apt-get update -qq 2>&1 > /dev/null\n",
    "!apt-get -y install -qq google-drive-ocamlfuse fuse"
   ]
  },
  {
   "cell_type": "code",
   "execution_count": 0,
   "metadata": {
    "colab": {},
    "colab_type": "code",
    "id": "9fPhsorgHnJ-"
   },
   "outputs": [],
   "source": [
    "# Generate auth tokens for Colab\n",
    "from google.colab import auth\n",
    "auth.authenticate_user()"
   ]
  },
  {
   "cell_type": "code",
   "execution_count": 6,
   "metadata": {
    "colab": {
     "base_uri": "https://localhost:8080/",
     "height": 105
    },
    "colab_type": "code",
    "id": "PU9xYYNuHnKC",
    "outputId": "e9536e6f-5a96-47ca-d284-6878fe502343"
   },
   "outputs": [
    {
     "name": "stdout",
     "output_type": "stream",
     "text": [
      "Please, open the following URL in a web browser: https://accounts.google.com/o/oauth2/auth?client_id=32555940559.apps.googleusercontent.com&redirect_uri=urn%3Aietf%3Awg%3Aoauth%3A2.0%3Aoob&scope=https%3A%2F%2Fwww.googleapis.com%2Fauth%2Fdrive&response_type=code&access_type=offline&approval_prompt=force\r\n",
      "··········\n",
      "Please, open the following URL in a web browser: https://accounts.google.com/o/oauth2/auth?client_id=32555940559.apps.googleusercontent.com&redirect_uri=urn%3Aietf%3Awg%3Aoauth%3A2.0%3Aoob&scope=https%3A%2F%2Fwww.googleapis.com%2Fauth%2Fdrive&response_type=code&access_type=offline&approval_prompt=force\n",
      "Please enter the verification code: Access token retrieved correctly.\n"
     ]
    }
   ],
   "source": [
    "# Generate creds for the Drive FUSE library.\n",
    "from oauth2client.client import GoogleCredentials\n",
    "creds = GoogleCredentials.get_application_default()\n",
    "import getpass\n",
    "!google-drive-ocamlfuse -headless -id={creds.client_id} -secret={creds.client_secret} < /dev/null 2>&1 | grep URL\n",
    "vcode = getpass.getpass()\n",
    "!echo {vcode} | google-drive-ocamlfuse -headless -id={creds.client_id} -secret={creds.client_secret}"
   ]
  },
  {
   "cell_type": "code",
   "execution_count": 0,
   "metadata": {
    "colab": {},
    "colab_type": "code",
    "id": "FOR2W13pHnKH"
   },
   "outputs": [],
   "source": [
    "!mkdir -p drive\n",
    "!google-drive-ocamlfuse drive"
   ]
  },
  {
   "cell_type": "markdown",
   "metadata": {
    "colab_type": "text",
    "id": "vMWRxMKfq7DD"
   },
   "source": [
    "## Importing the packages"
   ]
  },
  {
   "cell_type": "code",
   "execution_count": 0,
   "metadata": {
    "colab": {},
    "colab_type": "code",
    "id": "pwD-ahif4x4U"
   },
   "outputs": [],
   "source": [
    "!pip install fastai\n",
    "!apt-get -qq install -y libsm6 libxext6 && pip install -q -U opencv-python\n",
    "import cv2\n",
    "from os import path\n",
    "from wheel.pep425tags import get_abbr_impl, get_impl_ver, get_abi_tag\n",
    "platform = '{}{}-{}'.format(get_abbr_impl(), get_impl_ver(), get_abi_tag())\n",
    "\n",
    "accelerator = 'cu80' if path.exists('/opt/bin/nvidia-smi') else 'cpu'\n",
    "\n",
    "!pip install -q http://download.pytorch.org/whl/{accelerator}/torch-0.3.0.post4-{platform}-linux_x86_64.whl torchvision\n",
    "import torch\n",
    "!pip install Pillow==4.0.0\n",
    "!pip install image\n",
    "!pip install pydicom\n",
    "%matplotlib inline\n",
    "#!git clone https://github.com/pytorch/text\n",
    "#!python text/setup.py install --force"
   ]
  },
  {
   "cell_type": "code",
   "execution_count": 0,
   "metadata": {
    "colab": {},
    "colab_type": "code",
    "id": "GZaEgH2CsXfF"
   },
   "outputs": [],
   "source": [
    "# Put these at the top of every notebook, to get automatic reloading and inline plotting\n",
    "%reload_ext autoreload\n",
    "%autoreload 2\n",
    "%matplotlib inline"
   ]
  },
  {
   "cell_type": "code",
   "execution_count": 0,
   "metadata": {
    "colab": {},
    "colab_type": "code",
    "id": "HrEW6E8nsZ1e"
   },
   "outputs": [],
   "source": [
    "# This file contains all the main external libs we'll use\n",
    "from fastai.imports import *\n",
    "from fastai.transforms import *\n",
    "from fastai.conv_learner import *\n",
    "from fastai.model import *\n",
    "from fastai.dataset import *\n",
    "from fastai.sgdr import *\n",
    "from fastai.plots import *\n",
    "import os\n",
    "import h5py"
   ]
  },
  {
   "cell_type": "code",
   "execution_count": 20,
   "metadata": {
    "colab": {
     "base_uri": "https://localhost:8080/",
     "height": 391
    },
    "colab_type": "code",
    "id": "rFOFd29DHnKl",
    "outputId": "3c8d6c20-2bec-46f1-f2d9-22a8685f8345"
   },
   "outputs": [
    {
     "name": "stdout",
     "output_type": "stream",
     "text": [
      "--2018-08-24 13:38:44--  https://raw.githubusercontent.com/isados/breast-cancer-screening/fastai/utility.py\r\n",
      "Resolving raw.githubusercontent.com (raw.githubusercontent.com)... 151.101.0.133, 151.101.64.133, 151.101.128.133, ...\r\n",
      "Connecting to raw.githubusercontent.com (raw.githubusercontent.com)|151.101.0.133|:443... connected.\n",
      "HTTP request sent, awaiting response... 200 OK\n",
      "Length: 967 [text/plain]\n",
      "Saving to: ‘utility.py’\n",
      "\n",
      "utility.py          100%[===================>]     967  --.-KB/s    in 0s      \n",
      "\n",
      "2018-08-24 13:38:44 (91.1 MB/s) - ‘utility.py’ saved [967/967]\n",
      "\n",
      "--2018-08-24 13:38:46--  https://media.githubusercontent.com/media/isados/breast-cancer-screening/fastai/data/images_1227.hdf5\n",
      "Resolving media.githubusercontent.com (media.githubusercontent.com)... 151.101.0.133, 151.101.64.133, 151.101.128.133, ...\n",
      "Connecting to media.githubusercontent.com (media.githubusercontent.com)|151.101.0.133|:443... connected.\n",
      "HTTP request sent, awaiting response... 200 OK\n",
      "Length: 219405953 (209M) [application/octet-stream]\n",
      "Saving to: ‘images_1227.hdf5’\n",
      "\n",
      "images_1227.hdf5    100%[===================>] 209.24M   192MB/s    in 1.1s    \n",
      "\n",
      "2018-08-24 13:38:47 (192 MB/s) - ‘images_1227.hdf5’ saved [219405953/219405953]\n",
      "\n"
     ]
    }
   ],
   "source": [
    "# Download the necessary files from my repo\n",
    "!wget \"https://raw.githubusercontent.com/isados/breast-cancer-screening/fastai/utility.py\"\n",
    "!wget --header=\"Host: media.githubusercontent.com\" --header=\"User-Agent: Mozilla/5.0 (Macintosh; Intel Mac OS X 10_12_6) AppleWebKit/537.36 (KHTML, like Gecko) Chrome/68.0.3440.106 Safari/537.36\" --header=\"Accept: text/html,application/xhtml+xml,application/xml;q=0.9,image/webp,image/apng,*/*;q=0.8\" --header=\"Accept-Language: en-US,en;q=0.9,ar;q=0.8,es;q=0.7\" \"https://media.githubusercontent.com/media/isados/breast-cancer-screening/fastai/data/images_1227.hdf5\" -O \"images_1227.hdf5\" -c\n",
    "!mkdir -p data\n",
    "!mv images_1227.hdf5 data/"
   ]
  },
  {
   "cell_type": "markdown",
   "metadata": {
    "colab_type": "text",
    "id": "-L4zeUifsnHm"
   },
   "source": [
    "## The Start"
   ]
  },
  {
   "cell_type": "code",
   "execution_count": 13,
   "metadata": {
    "colab": {
     "base_uri": "https://localhost:8080/",
     "height": 34
    },
    "colab_type": "code",
    "id": "N1S7IoF3spK6",
    "outputId": "aa59e158-a54d-413b-96f9-cbfc2ebba18e"
   },
   "outputs": [
    {
     "data": {
      "text/plain": [
       "True"
      ]
     },
     "execution_count": 13,
     "metadata": {
      "tags": []
     },
     "output_type": "execute_result"
    }
   ],
   "source": [
    "PATH = \"data/\"\n",
    "sz=224\n",
    "torch.cuda.is_available()"
   ]
  },
  {
   "cell_type": "code",
   "execution_count": 14,
   "metadata": {
    "colab": {
     "base_uri": "https://localhost:8080/",
     "height": 34
    },
    "colab_type": "code",
    "id": "y9UcOJuYspWp",
    "outputId": "0f904254-7ca1-4a1d-d801-cf281f446727"
   },
   "outputs": [
    {
     "data": {
      "text/plain": [
       "True"
      ]
     },
     "execution_count": 14,
     "metadata": {
      "tags": []
     },
     "output_type": "execute_result"
    }
   ],
   "source": [
    "torch.backends.cudnn.enabled"
   ]
  },
  {
   "cell_type": "markdown",
   "metadata": {
    "colab_type": "text",
    "id": "4e5AattKvxIM"
   },
   "source": [
    "## Load and Display images"
   ]
  },
  {
   "cell_type": "code",
   "execution_count": 15,
   "metadata": {
    "colab": {
     "base_uri": "https://localhost:8080/",
     "height": 34
    },
    "colab_type": "code",
    "id": "nHs_h9iUHnK7",
    "outputId": "d517af23-d13c-4955-e83e-5b9b827ebf28"
   },
   "outputs": [
    {
     "name": "stdout",
     "output_type": "stream",
     "text": [
      "float32 (599, 89401)\n"
     ]
    }
   ],
   "source": [
    "with h5py.File(PATH+\"images_1227.hdf5\", \"r\") as f:\n",
    "    b=f['benign']\n",
    "    img_b=b['images'][...].astype(np.float32)\n",
    "#    lbl_b=b['labels'][...]\n",
    "    m=f['malignant']\n",
    "    img_m=m['images'][...].astype(np.float32)\n",
    "#    lbl_m=m['labels'][...]\n",
    "\n",
    "# BENIGN : 0 , MALIGNANT : 1\n",
    "lbl_b=np.zeros((img_b.shape[0],),dtype=np.int8)\n",
    "lbl_m=np.ones((img_m.shape[0],),dtype=np.int8)\n",
    "print(img_m.dtype,img_m.shape)"
   ]
  },
  {
   "cell_type": "code",
   "execution_count": 16,
   "metadata": {
    "colab": {
     "base_uri": "https://localhost:8080/",
     "height": 34
    },
    "colab_type": "code",
    "id": "2CstcwiwHnLA",
    "outputId": "ae3ecf64-3202-45fb-e348-d194f72a26d8"
   },
   "outputs": [
    {
     "data": {
      "text/plain": [
       "dtype('int8')"
      ]
     },
     "execution_count": 16,
     "metadata": {
      "tags": []
     },
     "output_type": "execute_result"
    }
   ],
   "source": [
    "lbl_b.dtype"
   ]
  },
  {
   "cell_type": "code",
   "execution_count": 17,
   "metadata": {
    "colab": {
     "base_uri": "https://localhost:8080/",
     "height": 286
    },
    "colab_type": "code",
    "id": "lJRbmdtNspeS",
    "outputId": "c3327ad4-a3b6-4422-8dcc-54b52df68f8c"
   },
   "outputs": [
    {
     "name": "stdout",
     "output_type": "stream",
     "text": [
      "[26325. 26868. 27369. ... 31926. 32449. 33231.]\n"
     ]
    },
    {
     "data": {
      "image/png": "[encoded data removed]",
      "text/plain": [
       "<matplotlib.figure.Figure at 0x7f9256b64e80>"
      ]
     },
     "metadata": {
      "tags": []
     },
     "output_type": "display_data"
    }
   ],
   "source": [
    "plt.imshow(img_b[2].reshape((299,299)),cmap=plt.cm.bone)\n",
    "print(img_b[2])"
   ]
  },
  {
   "cell_type": "markdown",
   "metadata": {
    "colab_type": "text",
    "id": "_6uUuVyXHnLK"
   },
   "source": [
    "## Prepare Training and Test Sets"
   ]
  },
  {
   "cell_type": "code",
   "execution_count": 0,
   "metadata": {
    "colab": {},
    "colab_type": "code",
    "id": "5nBrjKG1HnLM"
   },
   "outputs": [],
   "source": [
    "# Reshaping each Image array and creating an axis for the 3 channels\n",
    "img_b=img_b.reshape((-1,299,299))\n",
    "img_b=img_b[...,None].repeat(3,axis=3)\n",
    "\n",
    "img_m=img_m.reshape((-1,299,299))\n",
    "img_m=img_m[...,None].repeat(3,axis=3)"
   ]
  },
  {
   "cell_type": "code",
   "execution_count": 0,
   "metadata": {
    "colab": {},
    "colab_type": "code",
    "id": "QPcoMhxZHnLQ"
   },
   "outputs": [],
   "source": [
    "\"\"\" Not required \"\"\"\n",
    "# # Splitting the dataset into equal number of samples for both classes; and then create the validation set\n",
    "# img_b,img_m,=[],[]\n",
    "# for index,label in enumerate(lbl):\n",
    "#     image=img[index]\n",
    "#     if label==b'BENIGN':\n",
    "#         img_b.append(image)\n",
    "#     else:\n",
    "#         img_m.append(image)\n",
    "# img_b=np.array(img_b)\n",
    "# img_m=np.array(img_m)"
   ]
  },
  {
   "cell_type": "code",
   "execution_count": 23,
   "metadata": {
    "colab": {
     "base_uri": "https://localhost:8080/",
     "height": 51
    },
    "colab_type": "code",
    "id": "UZY339j4HnLV",
    "outputId": "91f9ac98-fdaf-4337-80dc-ab3fc2bf190d"
   },
   "outputs": [
    {
     "name": "stdout",
     "output_type": "stream",
     "text": [
      "Train Set Size: 981\tTest Set Size: 246\n",
      "(981, 299, 299, 3) \t (246, 299, 299, 3)\n"
     ]
    }
   ],
   "source": [
    "from utility import *\n",
    "split=0.8\n",
    "\n",
    "# Returns train-test split for BENIGN cases \n",
    "imgb_trn,imgb_tst=return_trn_test_split(data=img_b,frac=split)\n",
    "lblb_trn,lblb_tst=return_trn_test_split(data=lbl_b,frac=split)\n",
    "\n",
    "# Returns train-test split for MALIGNANT cases  \n",
    "imgm_trn,imgm_tst=return_trn_test_split(data=img_m,frac=split)\n",
    "lblm_trn,lblm_tst=return_trn_test_split(data=lbl_m,frac=split)\n",
    "\n",
    "# Prepare Labels for training set\n",
    "lbl_trn=np.concatenate([lblb_trn,lblm_trn])\n",
    "\n",
    "# Prepare Labels for test set\n",
    "lbl_tst=np.concatenate([lblb_tst,lblm_tst])\n",
    "\n",
    "# Prepare images for Training set\n",
    "img_trn=np.vstack([imgb_trn,imgm_trn])\n",
    "\n",
    "# Prepare images for Test set\n",
    "img_tst=np.vstack([imgb_tst,imgm_tst])\n",
    "\n",
    "print(\"Train Set Size: {}\\tTest Set Size: {}\".format(lbl_trn.shape[0],lbl_tst.shape[0]))\n",
    "print(img_trn.shape,\"\\t\",img_tst.shape)"
   ]
  },
  {
   "cell_type": "code",
   "execution_count": 0,
   "metadata": {
    "colab": {},
    "colab_type": "code",
    "id": "g2qiFMY6HnLb"
   },
   "outputs": [],
   "source": [
    "# Final Tuple\n",
    "trn,tst=(img_trn,lbl_trn),(img_tst,lbl_tst)"
   ]
  },
  {
   "cell_type": "markdown",
   "metadata": {
    "colab_type": "text",
    "id": "zB_llJqtv4Cv"
   },
   "source": [
    "## Initial Model"
   ]
  },
  {
   "cell_type": "code",
   "execution_count": 0,
   "metadata": {
    "colab": {},
    "colab_type": "code",
    "id": "g4ncZX_cspbC"
   },
   "outputs": [],
   "source": [
    "arch=resnet34\n",
    "labels=['BENIGN','MALIGNANT']\n",
    "data = ImageClassifierData.from_arrays(PATH, trn=trn,val=tst,classes=labels,tfms=tfms_from_model(arch, sz),bs=40)\n",
    "learn = ConvLearner.pretrained(arch, data, precompute=True)\n",
    "# Find the best learning rate\n",
    "#lrf=learn.lr_find()"
   ]
  },
  {
   "cell_type": "code",
   "execution_count": 33,
   "metadata": {
    "colab": {
     "base_uri": "https://localhost:8080/",
     "height": 51
    },
    "colab_type": "code",
    "id": "KC_R6IQBspSR",
    "outputId": "4870a502-5c95-4f54-9b57-85d8a94ed94e"
   },
   "outputs": [
    {
     "data": {
      "application/vnd.jupyter.widget-view+json": {
       "model_id": "cf329980ae56437bb79cc710e5c21664",
       "version_major": 2,
       "version_minor": 0
      },
      "text/plain": [
       "HBox(children=(IntProgress(value=0, description='Epoch', max=1), HTML(value='')))"
      ]
     },
     "metadata": {
      "tags": []
     },
     "output_type": "display_data"
    },
    {
     "name": "stdout",
     "output_type": "stream",
     "text": [
      " 63%|██████▎   | 155/246 [00:01<00:01, 85.02it/s, loss=3.57]\n"
     ]
    }
   ],
   "source": [
    "lrf=learn.lr_find()"
   ]
  },
  {
   "cell_type": "code",
   "execution_count": 34,
   "metadata": {
    "colab": {
     "base_uri": "https://localhost:8080/",
     "height": 283
    },
    "colab_type": "code",
    "id": "pNslk29DspP8",
    "outputId": "f8eb4a9b-032b-478a-df6b-688b5f16f6cf"
   },
   "outputs": [
    {
     "data": {
      "image/png": "[encoded data removed]",
      "text/plain": [
       "<matplotlib.figure.Figure at 0x7f918148a780>"
      ]
     },
     "metadata": {
      "tags": []
     },
     "output_type": "display_data"
    }
   ],
   "source": [
    "learn.sched.plot()"
   ]
  },
  {
   "cell_type": "code",
   "execution_count": 78,
   "metadata": {
    "colab": {
     "base_uri": "https://localhost:8080/",
     "height": 102
    },
    "colab_type": "code",
    "id": "0g6_gXlTspUv",
    "outputId": "ed0751bb-96e8-4051-921c-13df84e3012a"
   },
   "outputs": [
    {
     "data": {
      "application/vnd.jupyter.widget-view+json": {
       "model_id": "6170992bd79c4055bfbee25f51a675d2",
       "version_major": 2,
       "version_minor": 0
      },
      "text/plain": [
       "HBox(children=(IntProgress(value=0, description='Epoch', max=2), HTML(value='')))"
      ]
     },
     "metadata": {
      "tags": []
     },
     "output_type": "display_data"
    },
    {
     "name": "stdout",
     "output_type": "stream",
     "text": [
      "epoch      trn_loss   val_loss   accuracy   \n",
      "    0      0.894401   7.41842    0.560976  \n",
      "    1      0.824248   8.133109   0.617886  \n"
     ]
    },
    {
     "data": {
      "text/plain": [
       "[array([8.13311]), 0.6178861827385135]"
      ]
     },
     "execution_count": 78,
     "metadata": {
      "tags": []
     },
     "output_type": "execute_result"
    }
   ],
   "source": [
    "# Fit once\n",
    "learn.fit(0.005, 2)"
   ]
  },
  {
   "cell_type": "code",
   "execution_count": 0,
   "metadata": {
    "colab": {},
    "colab_type": "code",
    "id": "nWo3tOw99tjK"
   },
   "outputs": [],
   "source": [
    "learn.precompute=False"
   ]
  },
  {
   "cell_type": "code",
   "execution_count": 81,
   "metadata": {
    "colab": {
     "base_uri": "https://localhost:8080/",
     "height": 408
    },
    "colab_type": "code",
    "id": "lti0v61U-PPS",
    "outputId": "d4728d9a-fc40-4859-ca3b-cec75bd7cf81"
   },
   "outputs": [
    {
     "data": {
      "application/vnd.jupyter.widget-view+json": {
       "model_id": "d3ae4e95652141228944c83a79470cf5",
       "version_major": 2,
       "version_minor": 0
      },
      "text/plain": [
       "HBox(children=(IntProgress(value=0, description='Epoch', max=20), HTML(value='')))"
      ]
     },
     "metadata": {
      "tags": []
     },
     "output_type": "display_data"
    },
    {
     "name": "stdout",
     "output_type": "stream",
     "text": [
      "epoch      trn_loss   val_loss   accuracy   \n",
      "    0      0.685386   0.672341   0.601626  \n",
      "    1      0.673697   0.691114   0.565041  \n",
      "    2      0.678395   0.674862   0.589431  \n",
      "    3      0.682753   0.681794   0.613821  \n",
      "    4      0.690829   0.71015    0.581301  \n",
      "    5      0.67675    0.682959   0.597561  \n",
      "    6      0.689676   0.707145   0.593496  \n",
      "    7      0.677265   0.701033   0.601626  \n",
      "    8      0.674036   0.711952   0.589431  \n",
      "    9      0.673885   0.68968    0.601626  \n",
      "    10     0.677192   0.666972   0.601626  \n",
      "    11     0.671674   0.659079   0.609756  \n",
      "    12     0.667189   0.685942   0.581301  \n",
      "    13     0.662796   0.650225   0.630081  \n",
      "    14     0.674036   0.676439   0.626016  \n",
      "    15     0.666826   0.689965   0.581301  \n",
      "    16     0.660935   0.729013   0.589431  \n",
      "    17     0.656197   0.688497   0.589431  \n",
      "    18     0.6684     0.656286   0.626016  \n",
      "    19     0.650739   0.670518   0.565041  \n"
     ]
    },
    {
     "data": {
      "text/plain": [
       "[array([0.67052]), 0.5650406460451886]"
      ]
     },
     "execution_count": 81,
     "metadata": {
      "tags": []
     },
     "output_type": "execute_result"
    }
   ],
   "source": [
    "# Fit again\n",
    "learn.fit(0.01, 10, cycle_len=2)"
   ]
  },
  {
   "cell_type": "code",
   "execution_count": 0,
   "metadata": {
    "colab": {},
    "colab_type": "code",
    "id": "aTRLMmY8PDP6"
   },
   "outputs": [],
   "source": [
    "tfms = tfms_from_model(arch, 299, aug_tfms=transforms_side_on, max_zoom=1.1)\n",
    "#tfms=tfms_from_model(arch, sz)\n",
    "data = ImageClassifierData.from_arrays(PATH, trn=trn,val=tst,classes=labels,tfms=tfms,bs=40)\n",
    "learn.set_data(data)\n",
    "learn.precompute=True\n",
    "#learn.unfreeze()\n",
    "alpha=0.0005\n",
    "#lr=[alpha/100,alpha,alpha]"
   ]
  },
  {
   "cell_type": "code",
   "execution_count": 100,
   "metadata": {
    "colab": {
     "base_uri": "https://localhost:8080/",
     "height": 408
    },
    "colab_type": "code",
    "id": "Xj7-ZBRRPKd-",
    "outputId": "bd10a55d-22fc-427b-81e6-606c5396b95d"
   },
   "outputs": [
    {
     "data": {
      "application/vnd.jupyter.widget-view+json": {
       "model_id": "b40d1c6a4a934c898b76e58bb3eecfd9",
       "version_major": 2,
       "version_minor": 0
      },
      "text/plain": [
       "HBox(children=(IntProgress(value=0, description='Epoch', max=20), HTML(value='')))"
      ]
     },
     "metadata": {
      "tags": []
     },
     "output_type": "display_data"
    },
    {
     "name": "stdout",
     "output_type": "stream",
     "text": [
      "epoch      trn_loss   val_loss   accuracy   \n",
      "    0      0.553808   0.664899   0.617886  \n",
      "    1      0.556877   0.67081    0.626016  \n",
      "    2      0.566571   0.666882   0.621951  \n",
      "    3      0.569681   0.672803   0.621951  \n",
      "    4      0.565559   0.670667   0.634146  \n",
      "    5      0.564286   0.669648   0.634146  \n",
      "    6      0.565311   0.672074   0.634146  \n",
      "    7      0.568369   0.666178   0.638211  \n",
      "    8      0.568891   0.67016    0.613821  \n",
      "    9      0.567918   0.672072   0.621951  \n",
      "    10     0.574661   0.667939   0.634146  \n",
      "    11     0.563077   0.665665   0.630081  \n",
      "    12     0.561644   0.672359   0.626016  \n",
      "    13     0.575238   0.67946    0.626016  \n",
      "    14     0.567123   0.66149    0.630081  \n",
      "    15     0.554573   0.669029   0.621951  \n",
      "    16     0.552813   0.689057   0.605691  \n",
      "    17     0.546063   0.670692   0.630081  \n",
      "    18     0.548359   0.657332   0.626016  \n",
      "    19     0.555695   0.666115   0.630081  \n"
     ]
    },
    {
     "data": {
      "text/plain": [
       "[array([0.66611]), 0.6300813022667799]"
      ]
     },
     "execution_count": 100,
     "metadata": {
      "tags": []
     },
     "output_type": "execute_result"
    }
   ],
   "source": [
    "# Fit again\n",
    "learn.fit(alpha, 10, cycle_len=2)"
   ]
  },
  {
   "cell_type": "code",
   "execution_count": 0,
   "metadata": {
    "colab": {},
    "colab_type": "code",
    "id": "wWoonNVwPKbL"
   },
   "outputs": [],
   "source": []
  },
  {
   "cell_type": "code",
   "execution_count": 0,
   "metadata": {
    "colab": {},
    "colab_type": "code",
    "id": "9KptvzMaPKYx"
   },
   "outputs": [],
   "source": []
  },
  {
   "cell_type": "code",
   "execution_count": 0,
   "metadata": {
    "colab": {},
    "colab_type": "code",
    "id": "tldyeYfrPKV8"
   },
   "outputs": [],
   "source": []
  },
  {
   "cell_type": "code",
   "execution_count": 0,
   "metadata": {
    "colab": {},
    "colab_type": "code",
    "id": "sMBjuEn0PKSk"
   },
   "outputs": [],
   "source": []
  },
  {
   "cell_type": "code",
   "execution_count": 0,
   "metadata": {
    "colab": {},
    "colab_type": "code",
    "id": "FtYEJi-q-lem"
   },
   "outputs": [],
   "source": [
    "#learn.save('initial')\n",
    "!mkdir -p drive/models/cancer\n",
    "!cp data/models/* drive/models/cancer"
   ]
  },
  {
   "cell_type": "markdown",
   "metadata": {
    "colab_type": "text",
    "id": "0ghNHvddwn3F"
   },
   "source": [
    "## Change size of Image"
   ]
  },
  {
   "cell_type": "code",
   "execution_count": 0,
   "metadata": {
    "colab": {
     "base_uri": "https://localhost:8080/",
     "height": 51
    },
    "colab_type": "code",
    "id": "Htsj4I-ByKJP",
    "outputId": "b098b861-5a84-48a2-e55a-6ea1e2c1c8d4"
   },
   "outputs": [
    {
     "name": "stderr",
     "output_type": "stream",
     "text": [
      "Downloading: \"https://download.pytorch.org/models/resnet34-333f7ec4.pth\" to /content/.torch/models/resnet34-333f7ec4.pth\n",
      "100%|██████████| 87306240/87306240 [00:00<00:00, 97662408.45it/s]\n"
     ]
    }
   ],
   "source": [
    "# Run this only when initialising the model\n",
    "arch=resnet34\n",
    "tfms = tfms_from_model(arch, 299, aug_tfms=transforms_side_on, max_zoom=1.1)\n",
    "data = ImageClassifierData.from_paths(PATH, tfms=tfms,trn_name='training',val_name='validation')\n",
    "learn = ConvLearner.pretrained(arch, data, precompute=False)"
   ]
  },
  {
   "cell_type": "code",
   "execution_count": 0,
   "metadata": {
    "colab": {},
    "colab_type": "code",
    "id": "uWCPpl7PByyu"
   },
   "outputs": [],
   "source": [
    "tfms = tfms_from_model(arch, 299, aug_tfms=transforms_side_on, max_zoom=1.1)\n",
    "data = ImageClassifierData.from_paths(PATH, tfms=tfms,trn_name='training',val_name='validation')\n",
    "learn.set_data(data)\n",
    "learn.freeze()"
   ]
  },
  {
   "cell_type": "code",
   "execution_count": 0,
   "metadata": {
    "colab": {
     "base_uri": "https://localhost:8080/",
     "height": 136
    },
    "colab_type": "code",
    "id": "xlbQnlrMCjK5",
    "outputId": "db46a20c-6b04-4b83-e4b3-31f30f945cc7"
   },
   "outputs": [
    {
     "data": {
      "application/vnd.jupyter.widget-view+json": {
       "model_id": "d87fb812a24e45a3b32cf22a564660fc",
       "version_major": 2,
       "version_minor": 0
      },
      "text/plain": [
       "HBox(children=(IntProgress(value=0, description='Epoch', max=3), HTML(value='')))"
      ]
     },
     "metadata": {
      "tags": []
     },
     "output_type": "display_data"
    },
    {
     "name": "stdout",
     "output_type": "stream",
     "text": [
      "epoch      trn_loss   val_loss   accuracy   \n",
      "    0      0.164723   0.092937   0.977941  \n",
      "    1      0.170718   0.075668   0.985294  \n",
      "    2      0.164526   0.067321   0.981618  \n",
      "\n"
     ]
    },
    {
     "data": {
      "text/plain": [
       "[array([0.06732]), 0.9816176470588235]"
      ]
     },
     "execution_count": 56,
     "metadata": {
      "tags": []
     },
     "output_type": "execute_result"
    }
   ],
   "source": [
    "learn.fit(1e-2, 3, cycle_len=1)"
   ]
  },
  {
   "cell_type": "code",
   "execution_count": 0,
   "metadata": {
    "colab": {
     "base_uri": "https://localhost:8080/",
     "height": 204
    },
    "colab_type": "code",
    "id": "ZcKdROkLCpxu",
    "outputId": "7418377a-8d0f-4e70-ecf4-e0162f73f30d"
   },
   "outputs": [
    {
     "data": {
      "application/vnd.jupyter.widget-view+json": {
       "model_id": "80167f2785764047adc50cce322d0733",
       "version_major": 2,
       "version_minor": 0
      },
      "text/plain": [
       "HBox(children=(IntProgress(value=0, description='Epoch', max=7), HTML(value='')))"
      ]
     },
     "metadata": {
      "tags": []
     },
     "output_type": "display_data"
    },
    {
     "name": "stdout",
     "output_type": "stream",
     "text": [
      "epoch      trn_loss   val_loss   accuracy   \n",
      "    0      0.140643   0.066152   0.977941  \n",
      "    1      0.152788   0.059445   0.981618  \n",
      "    2      0.138595   0.057111   0.977941  \n",
      "    3      0.138765   0.049833   0.985294  \n",
      "    4      0.130745   0.045633   0.985294  \n",
      "    5      0.121055   0.045036   0.988971  \n",
      "    6      0.117725   0.043676   0.988971  \n",
      "\n"
     ]
    },
    {
     "data": {
      "text/plain": [
       "[array([0.04368]), 0.9889705882352942]"
      ]
     },
     "execution_count": 57,
     "metadata": {
      "tags": []
     },
     "output_type": "execute_result"
    }
   ],
   "source": [
    "# When you are under fitting, it means cycle_len=1 is too short (learning rate is getting reset before it had the chance to zoom in properly).\n",
    "learn.fit(1e-2, 3, cycle_len=1, cycle_mult=2) # 1+2+4 = 7 epochs"
   ]
  },
  {
   "cell_type": "code",
   "execution_count": 0,
   "metadata": {
    "colab": {},
    "colab_type": "code",
    "id": "ExZTaSX5EfmI"
   },
   "outputs": [],
   "source": [
    "learn.save('299')\n"
   ]
  },
  {
   "cell_type": "code",
   "execution_count": 0,
   "metadata": {
    "colab": {},
    "colab_type": "code",
    "id": "Bx8x7KduGJvt"
   },
   "outputs": [],
   "source": [
    "!mkdir drive/models/monkeys\n",
    "!cp monkeys/models/* drive/models/monkeys"
   ]
  },
  {
   "cell_type": "code",
   "execution_count": 0,
   "metadata": {
    "colab": {
     "base_uri": "https://localhost:8080/",
     "height": 204
    },
    "colab_type": "code",
    "id": "_D3MqUkzGhyP",
    "outputId": "8b61c89f-2d4e-4828-a695-dc9192cca622"
   },
   "outputs": [
    {
     "data": {
      "application/vnd.jupyter.widget-view+json": {
       "model_id": "acf6d28396c54b54984ba239c90d5046",
       "version_major": 2,
       "version_minor": 0
      },
      "text/plain": [
       "HBox(children=(IntProgress(value=0, description='Epoch', max=7), HTML(value='')))"
      ]
     },
     "metadata": {
      "tags": []
     },
     "output_type": "display_data"
    },
    {
     "name": "stdout",
     "output_type": "stream",
     "text": [
      "epoch      trn_loss   val_loss   accuracy   \n",
      "    0      0.098369   0.043427   0.988971  \n",
      "    1      0.093829   0.037283   0.988971  \n",
      "    2      0.103249   0.035257   0.992647  \n",
      "    3      0.093968   0.029273   0.992647  \n",
      "    4      0.095776   0.024333   0.996324  \n",
      "    5      0.088497   0.024106   0.996324  \n",
      "    6      0.079947   0.024375   0.996324  \n",
      "\n"
     ]
    },
    {
     "data": {
      "text/plain": [
       "[array([0.02437]), 0.9963235294117647]"
      ]
     },
     "execution_count": 63,
     "metadata": {
      "tags": []
     },
     "output_type": "execute_result"
    }
   ],
   "source": [
    "learn.fit(0.04, 3, cycle_len=1, cycle_mult=2)"
   ]
  },
  {
   "cell_type": "code",
   "execution_count": 0,
   "metadata": {
    "colab": {},
    "colab_type": "code",
    "id": "m04tjSp_Gmu1"
   },
   "outputs": [],
   "source": [
    "learn.save('299_im')\n",
    "!cp monkeys/models/299_im.h5 drive/models/monkeys"
   ]
  },
  {
   "cell_type": "code",
   "execution_count": 0,
   "metadata": {
    "colab": {
     "base_uri": "https://localhost:8080/",
     "height": 34
    },
    "colab_type": "code",
    "id": "U-TqZAVqJRwt",
    "outputId": "c930d66c-11cc-4457-d552-69ea4ba75b16"
   },
   "outputs": [
    {
     "name": "stdout",
     "output_type": "stream",
     "text": [
      "224.h5\t299.h5\t299_im.h5  tmp.h5\r\n"
     ]
    }
   ],
   "source": [
    "!cp drive/models/monkeys/* monkeys/models/\n",
    "!ls monkeys/models"
   ]
  },
  {
   "cell_type": "code",
   "execution_count": 0,
   "metadata": {
    "colab": {
     "base_uri": "https://localhost:8080/",
     "height": 34
    },
    "colab_type": "code",
    "id": "41E0HwOFJUkz",
    "outputId": "a9f4d23d-a5ea-4237-d02b-bd45b8d36815"
   },
   "outputs": [
    {
     "name": "stdout",
     "output_type": "stream",
     "text": []
    },
    {
     "data": {
      "text/plain": [
       "(0.9926470588235294, 0.024276230360895577)"
      ]
     },
     "execution_count": 24,
     "metadata": {
      "tags": []
     },
     "output_type": "execute_result"
    }
   ],
   "source": [
    "log_preds, y = learn.TTA() # (5, 2044, 120), (2044,)\n",
    "probs = np.mean(np.exp(log_preds),0)\n",
    "accuracy_np(probs, y), metrics.log_loss(y, probs)"
   ]
  },
  {
   "cell_type": "code",
   "execution_count": 0,
   "metadata": {
    "colab": {
     "base_uri": "https://localhost:8080/",
     "height": 34
    },
    "colab_type": "code",
    "id": "kIXP-gNM4Qj8",
    "outputId": "e0300ec2-6415-428c-b7ba-5f06f7fe5b0f"
   },
   "outputs": [
    {
     "data": {
      "text/plain": [
       "(272, 10)"
      ]
     },
     "execution_count": 30,
     "metadata": {
      "tags": []
     },
     "output_type": "execute_result"
    }
   ],
   "source": [
    "probs.shape"
   ]
  },
  {
   "cell_type": "code",
   "execution_count": 0,
   "metadata": {
    "colab": {},
    "colab_type": "code",
    "id": "9h19yTCCJ2AI"
   },
   "outputs": [],
   "source": [
    "learn.load('299_im')\n",
    "learn.precompute=False\n",
    "#learn.unfreeze()\n",
    "#lr=0.04\n"
   ]
  },
  {
   "cell_type": "code",
   "execution_count": 0,
   "metadata": {
    "colab": {
     "base_uri": "https://localhost:8080/",
     "height": 85
    },
    "colab_type": "code",
    "id": "GVdtt4SLLpIF",
    "outputId": "f5f4db03-334f-479e-9e8e-bd70eaafe12b"
   },
   "outputs": [
    {
     "data": {
      "application/vnd.jupyter.widget-view+json": {
       "model_id": "11b53e0578424fd9a2cddc7a0b879d71",
       "version_major": 2,
       "version_minor": 0
      },
      "text/plain": [
       "HBox(children=(IntProgress(value=0, description='Epoch', max=1), HTML(value='')))"
      ]
     },
     "metadata": {
      "tags": []
     },
     "output_type": "display_data"
    },
    {
     "name": "stdout",
     "output_type": "stream",
     "text": [
      "epoch      trn_loss   val_loss   accuracy   \n",
      "    0      0.037509   0.025447   0.988971  \n"
     ]
    },
    {
     "data": {
      "text/plain": [
       "[array([0.02545]), 0.9889705882352942]"
      ]
     },
     "execution_count": 74,
     "metadata": {
      "tags": []
     },
     "output_type": "execute_result"
    }
   ],
   "source": [
    "learn.fit([lr/100,lr/10,lr],1)"
   ]
  },
  {
   "cell_type": "markdown",
   "metadata": {
    "colab_type": "text",
    "id": "chENt1QNS8UZ"
   },
   "source": [
    "## Individual Prediction"
   ]
  },
  {
   "cell_type": "code",
   "execution_count": 0,
   "metadata": {
    "colab": {
     "base_uri": "https://localhost:8080/",
     "height": 34
    },
    "colab_type": "code",
    "id": "10lBJCq2M81S",
    "outputId": "fa68b4a1-4bcd-4878-d634-5fe775099fb0"
   },
   "outputs": [
    {
     "data": {
      "text/plain": [
       "['n0', 'n1', 'n2', 'n3', 'n4', 'n5', 'n6', 'n7', 'n8', 'n9']"
      ]
     },
     "execution_count": 16,
     "metadata": {
      "tags": []
     },
     "output_type": "execute_result"
    }
   ],
   "source": [
    "data.classes"
   ]
  },
  {
   "cell_type": "code",
   "execution_count": 0,
   "metadata": {
    "colab": {
     "base_uri": "https://localhost:8080/",
     "height": 359
    },
    "colab_type": "code",
    "id": "sfNH4anUTEcV",
    "outputId": "582883b0-a39a-455d-e14b-14314b0db6b5"
   },
   "outputs": [
    {
     "data": {
      "text/html": [
       "<div>\n",
       "<style scoped>\n",
       "    .dataframe tbody tr th:only-of-type {\n",
       "        vertical-align: middle;\n",
       "    }\n",
       "\n",
       "    .dataframe tbody tr th {\n",
       "        vertical-align: top;\n",
       "    }\n",
       "\n",
       "    .dataframe thead th {\n",
       "        text-align: right;\n",
       "    }\n",
       "</style>\n",
       "<table border=\"1\" class=\"dataframe\">\n",
       "  <thead>\n",
       "    <tr style=\"text-align: right;\">\n",
       "      <th></th>\n",
       "      <th>Label</th>\n",
       "      <th>Latin Name</th>\n",
       "      <th>Common Name</th>\n",
       "      <th>Train Images</th>\n",
       "      <th>Validation Images</th>\n",
       "    </tr>\n",
       "  </thead>\n",
       "  <tbody>\n",
       "    <tr>\n",
       "      <th>0</th>\n",
       "      <td>n0</td>\n",
       "      <td>alouatta_palliata</td>\n",
       "      <td>mantled_howler</td>\n",
       "      <td>131</td>\n",
       "      <td>26</td>\n",
       "    </tr>\n",
       "    <tr>\n",
       "      <th>1</th>\n",
       "      <td>n1</td>\n",
       "      <td>erythrocebus_patas</td>\n",
       "      <td>patas_monkey</td>\n",
       "      <td>139</td>\n",
       "      <td>28</td>\n",
       "    </tr>\n",
       "    <tr>\n",
       "      <th>2</th>\n",
       "      <td>n2</td>\n",
       "      <td>cacajao_calvus</td>\n",
       "      <td>bald_uakari</td>\n",
       "      <td>137</td>\n",
       "      <td>27</td>\n",
       "    </tr>\n",
       "    <tr>\n",
       "      <th>3</th>\n",
       "      <td>n3</td>\n",
       "      <td>macaca_fuscata</td>\n",
       "      <td>japanese_macaque</td>\n",
       "      <td>152</td>\n",
       "      <td>30</td>\n",
       "    </tr>\n",
       "    <tr>\n",
       "      <th>4</th>\n",
       "      <td>n4</td>\n",
       "      <td>cebuella_pygmea</td>\n",
       "      <td>pygmy_marmoset</td>\n",
       "      <td>131</td>\n",
       "      <td>26</td>\n",
       "    </tr>\n",
       "    <tr>\n",
       "      <th>5</th>\n",
       "      <td>n5</td>\n",
       "      <td>cebus_capucinus</td>\n",
       "      <td>white_headed_capuchin</td>\n",
       "      <td>141</td>\n",
       "      <td>28</td>\n",
       "    </tr>\n",
       "    <tr>\n",
       "      <th>6</th>\n",
       "      <td>n6</td>\n",
       "      <td>mico_argentatus</td>\n",
       "      <td>silvery_marmoset</td>\n",
       "      <td>132</td>\n",
       "      <td>26</td>\n",
       "    </tr>\n",
       "    <tr>\n",
       "      <th>7</th>\n",
       "      <td>n7</td>\n",
       "      <td>saimiri_sciureus</td>\n",
       "      <td>common_squirrel_monkey</td>\n",
       "      <td>142</td>\n",
       "      <td>28</td>\n",
       "    </tr>\n",
       "    <tr>\n",
       "      <th>8</th>\n",
       "      <td>n8</td>\n",
       "      <td>aotus_nigriceps</td>\n",
       "      <td>black_headed_night_monkey</td>\n",
       "      <td>133</td>\n",
       "      <td>27</td>\n",
       "    </tr>\n",
       "    <tr>\n",
       "      <th>9</th>\n",
       "      <td>n9</td>\n",
       "      <td>trachypithecus_johnii</td>\n",
       "      <td>nilgiri_langur</td>\n",
       "      <td>132</td>\n",
       "      <td>26</td>\n",
       "    </tr>\n",
       "  </tbody>\n",
       "</table>\n",
       "</div>"
      ],
      "text/plain": [
       "  Label             Latin Name                Common Name  Train Images  \\\n",
       "0    n0      alouatta_palliata             mantled_howler           131   \n",
       "1    n1     erythrocebus_patas               patas_monkey           139   \n",
       "2    n2         cacajao_calvus                bald_uakari           137   \n",
       "3    n3         macaca_fuscata           japanese_macaque           152   \n",
       "4    n4        cebuella_pygmea             pygmy_marmoset           131   \n",
       "5    n5        cebus_capucinus      white_headed_capuchin           141   \n",
       "6    n6        mico_argentatus           silvery_marmoset           132   \n",
       "7    n7       saimiri_sciureus     common_squirrel_monkey           142   \n",
       "8    n8        aotus_nigriceps  black_headed_night_monkey           133   \n",
       "9    n9  trachypithecus_johnii             nilgiri_langur           132   \n",
       "\n",
       "   Validation Images  \n",
       "0                 26  \n",
       "1                 28  \n",
       "2                 27  \n",
       "3                 30  \n",
       "4                 26  \n",
       "5                 28  \n",
       "6                 26  \n",
       "7                 28  \n",
       "8                 27  \n",
       "9                 26  "
      ]
     },
     "execution_count": 32,
     "metadata": {
      "tags": []
     },
     "output_type": "execute_result"
    }
   ],
   "source": [
    "df=pd.read_csv(f'{PATH}monkey_labels.csv',sep=',')\n",
    "files = os.listdir(f'{PATH}validation/n6')\n",
    "df"
   ]
  },
  {
   "cell_type": "code",
   "execution_count": 0,
   "metadata": {
    "colab": {
     "base_uri": "https://localhost:8080/",
     "height": 320
    },
    "colab_type": "code",
    "id": "Qmp8-BDGP6Hp",
    "outputId": "8b86463c-0604-4cc9-b2c9-a885f8ddcefc"
   },
   "outputs": [
    {
     "name": "stdout",
     "output_type": "stream",
     "text": [
      "[[-8.47415 -5.3419  -8.98657 -7.33615 -8.40222 -4.85955 -0.01505 -7.9327  -7.99449 -7.61879]]\n",
      "6    silvery_marmoset\n",
      "Name: Common Name, dtype: object\n"
     ]
    },
    {
     "data": {
      "image/png": "[encoded data removed]",
      "text/plain": [
       "<matplotlib.figure.Figure at 0x7f6f405b3080>"
      ]
     },
     "metadata": {
      "tags": []
     },
     "output_type": "display_data"
    }
   ],
   "source": [
    "#learn.load('299_im')\n",
    "img=open_image(f'{PATH}validation/n6/{files[7]}')\n",
    "plt.imshow(img)\n",
    "img=tfms[1](img)\n",
    "preds=learn.predict_array(img[None])\n",
    "print(preds)\n",
    "print(df[df.Label==data.classes[np.argmax(preds)]]['Common Name'])"
   ]
  },
  {
   "cell_type": "code",
   "execution_count": 0,
   "metadata": {
    "colab": {
     "base_uri": "https://localhost:8080/",
     "height": 34
    },
    "colab_type": "code",
    "id": "DMQcjNyVe9AF",
    "outputId": "e3025e82-3b5f-434d-e757-6b572be64655"
   },
   "outputs": [
    {
     "name": "stdout",
     "output_type": "stream",
     "text": [
      "(550, 700, 3)\n"
     ]
    }
   ],
   "source": [
    "img=plt.imread(f'{PATH}validation/n4/{files[5]}')\n",
    "print(img.shape)\n",
    "#img=tfms[1](img)\n",
    "\n",
    "plt.imshow(img)\n",
    "#tfms"
   ]
  },
  {
   "cell_type": "code",
   "execution_count": 0,
   "metadata": {
    "colab": {
     "base_uri": "https://localhost:8080/",
     "height": 34
    },
    "colab_type": "code",
    "id": "78op903RQooQ",
    "outputId": "cf75a66e-45fb-489e-e518-f259bf2a1035"
   },
   "outputs": [
    {
     "data": {
      "text/plain": [
       "4"
      ]
     },
     "execution_count": 45,
     "metadata": {
      "tags": []
     },
     "output_type": "execute_result"
    }
   ],
   "source": [
    "fn=f'validation/n4/{files[7]}'\n",
    "trn_tfms, val_tfms = tfms_from_model(arch, sz)\n",
    "ds = FilesIndexArrayDataset([fn], np.array([0]), val_tfms, PATH)\n",
    "dl = DataLoader(ds)\n",
    "preds = learn.predict_dl(dl)\n",
    "np.argmax(preds)"
   ]
  }
 ],
 "metadata": {
  "accelerator": "GPU",
  "colab": {
   "collapsed_sections": [
    "CoSLRD7PHnJx",
    "vMWRxMKfq7DD",
    "-L4zeUifsnHm",
    "4e5AattKvxIM",
    "_6uUuVyXHnLK",
    "0ghNHvddwn3F",
    "chENt1QNS8UZ"
   ],
   "name": "model.ipynb",
   "provenance": [],
   "version": "0.3.2"
  },
  "kernelspec": {
   "display_name": "Python 3",
   "language": "python",
   "name": "python3"
  },
  "language_info": {
   "codemirror_mode": {
    "name": "ipython",
    "version": 3
   },
   "file_extension": ".py",
   "mimetype": "text/x-python",
   "name": "python",
   "nbconvert_exporter": "python",
   "pygments_lexer": "ipython3",
   "version": "3.6.6"
  }
 },
 "nbformat": 4,
 "nbformat_minor": 1
}
